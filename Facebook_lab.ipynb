{
 "cells": [
  {
   "cell_type": "markdown",
   "metadata": {},
   "source": [
    "##Lab 1 - Analyzing Facebook data\n",
    "\n",
    "This notebook guides you through process of loading and analyzing real (but anonymized) Facebook data. The two goals for the notebook are to give you a better idea of the workflow for doing data analysis with Python and to introduce you to a \"big data\" type data source. In particular, we'll focus on networks because they go hand-in-hand with the big data movement. We aren't using your own live Facebook data because the new Facebook API (system for accessing their databases) much more aggressively limits what data we can get. Yay for privacy! Too bad for us big data nerds:(\n",
    "\n",
    "In order to be able to use this notebook, you need the Facebook_Lab.py file and the data files, named #_friend_data.json and #_general_data.csv (where # is some number between 1 and 5). You should have got these files when you downloaded the folder this notebook is in. If you are getting import or file not found errors, make sure you have those files.\n",
    "<br><br>\n",
    "\n",
    "This is the structure of this session:\n",
    "    1. Quick intro in the JSON file format\n",
    "    2. Super quick Facebook refresher \n",
    "    3. Loading JSON formatted Facebook data\n",
    "    4. Putting the data into a PANDAS dataframe\n",
    "    5. Plotting networks\n",
    "    6. Measuring networks"
   ]
  },
  {
   "cell_type": "markdown",
   "metadata": {},
   "source": [
    "#### A few things about this notebook\n",
    "\n",
    "* The module/package Facebook_Lab has functions that do a lot of behind the scenes processing. If you want to see the details, you should open up that file in a text editor or IDE.\n",
    "    <br><br>\n",
    "* There are occasionally snippets of code that are commented out with a hashtag (`#`) in front of them. Removing the hashtag and any extra spaces will make that code live as well. This is a convenient way to experiment with different options without having delete and rewrite lines of code all the time.\n",
    "<br>\n",
    "<br>\n"
   ]
  },
  {
   "cell_type": "markdown",
   "metadata": {},
   "source": [
    "<br><br>\n",
    "## Topic 1: the JSON format \n",
    "\n",
    "A common format for API data is the *JSON* (JavaScript Object Notation) format. A *JSON* formatted file is human-readable and ends with *.json*. At this point, the format's only meaningful connection to its namesake JavaScript is that it is built around the concept of *objects*, which is at the core of the object-oriented programming paradigm that Java popularized. This matters to us only in that thinking in terms of objects is helpful for a lot of Big Data.\n",
    "\n",
    "Consider a tweet:\n",
    "<blockquote class=\"twitter-tweet\" lang=\"en\"><p lang=\"en\" dir=\"ltr\">Warriors vs. Cavs. &#10;Steph vs. LeBron. &#10;&#10;See you June 4th. <a href=\"http://t.co/3ZjzzU4lkW\">pic.twitter.com/3ZjzzU4lkW</a></p>&mdash; NBA on ESPN (@ESPNNBA) <a href=\"https://twitter.com/ESPNNBA/status/603774381773434880\">May 28, 2015</a></blockquote> <script async src=\"//platform.twitter.com/widgets.js\" charset=\"utf-8\"></script>\n",
    "![img](http://pbs.twimg.com/tweet_video_thumb/CGEJBySUgAAFhD3.png)\n",
    "\n",
    "<br>\n",
    "In our daily lives, we view a tweet as a (very) short piece of text but there is a lot more to a tweet. Below is the JSON representation for the same tweet. \n",
    "<br><br>\n",
    "\n",
    "<code> {u'contributors': None,\n",
    "  u'coordinates': None,\n",
    "  u'created_at': u'Thu May 28 04:06:44 +0000 2015',\n",
    "  u'entities': {u'hashtags': [],\n",
    "   u'media': [{u'display_url': u'pic.twitter.com/3ZjzzU4lkW',\n",
    "     u'expanded_url': u'http://twitter.com/ESPNNBA/status/603774381773434880/photo/1',\n",
    "     u'id': 603773751327490048,\n",
    "     u'id_str': u'603773751327490048',\n",
    "     u'indices': [58, 80],\n",
    "     u'media_url': u'http://pbs.twimg.com/tweet_video_thumb/CGEJBySUgAAFhD3.png',\n",
    "     u'media_url_https': u'https://pbs.twimg.com/tweet_video_thumb/CGEJBySUgAAFhD3.png',\n",
    "     u'sizes': {u'large': {u'h': 512, u'resize': u'fit', u'w': 1024},\n",
    "      u'medium': {u'h': 300, u'resize': u'fit', u'w': 600},\n",
    "      u'small': {u'h': 170, u'resize': u'fit', u'w': 340},\n",
    "      u'thumb': {u'h': 150, u'resize': u'crop', u'w': 150}},\n",
    "     u'type': u'photo',\n",
    "     u'url': u'http://t.co/3ZjzzU4lkW'}],\n",
    "   u'symbols': [],\n",
    "   u'urls': [],\n",
    "   u'user_mentions': []},\n",
    "  u'extended_entities': {u'media': [{u'display_url': u'pic.twitter.com/3ZjzzU4lkW',\n",
    "     u'expanded_url': u'http://twitter.com/ESPNNBA/status/603774381773434880/photo/1',\n",
    "     u'id': 603773751327490048,\n",
    "     u'id_str': u'603773751327490048',\n",
    "     u'indices': [58, 80],\n",
    "     u'media_url': u'http://pbs.twimg.com/tweet_video_thumb/CGEJBySUgAAFhD3.png',\n",
    "     u'media_url_https': u'https://pbs.twimg.com/tweet_video_thumb/CGEJBySUgAAFhD3.png',\n",
    "     u'sizes': {u'large': {u'h': 512, u'resize': u'fit', u'w': 1024},\n",
    "      u'medium': {u'h': 300, u'resize': u'fit', u'w': 600},\n",
    "      u'small': {u'h': 170, u'resize': u'fit', u'w': 340},\n",
    "      u'thumb': {u'h': 150, u'resize': u'crop', u'w': 150}},\n",
    "     u'type': u'animated_gif',\n",
    "     u'url': u'http://t.co/3ZjzzU4lkW',\n",
    "     u'video_info': {u'aspect_ratio': [2, 1],\n",
    "      u'variants': [{u'bitrate': 0,\n",
    "        u'content_type': u'video/mp4',\n",
    "        u'url': u'https://pbs.twimg.com/tweet_video/CGEJBySUgAAFhD3.mp4'}]}}]},\n",
    "  u'favorite_count': 5088,\n",
    "  u'favorited': False,\n",
    "  u'geo': None,\n",
    "  u'id': 603774381773434880,\n",
    "  u'id_str': u'603774381773434880',\n",
    "  u'in_reply_to_screen_name': None,\n",
    "  u'in_reply_to_status_id': None,\n",
    "  u'in_reply_to_status_id_str': None,\n",
    "  u'in_reply_to_user_id': None,\n",
    "  u'in_reply_to_user_id_str': None,\n",
    "  u'lang': u'en',\n",
    "  u'place': None,\n",
    "  u'possibly_sensitive': False,\n",
    "  u'retweet_count': 5705,\n",
    "  u'retweeted': False,\n",
    "  u'source': u'<a href=\"https://about.twitter.com/products/tweetdeck\" rel=\"nofollow\">TweetDeck</a>',\n",
    "  u'text': u'Warriors vs. Cavs. \\nSteph vs. LeBron. \\n\\nSee you June 4th. http://t.co/3ZjzzU4lkW',\n",
    "  u'truncated': False,\n",
    "  u'user': {u'contributors_enabled': False,\n",
    "   u'created_at': u'Tue Sep 15 18:37:13 +0000 2009',\n",
    "   u'default_profile': False,\n",
    "   u'default_profile_image': False,\n",
    "   u'description': u'Official Twitter account of the NBA on ESPN, home of the NBA Draft and the NBA Finals.',\n",
    "   u'entities': {u'description': {u'urls': []},\n",
    "    u'url': {u'urls': [{u'display_url': u'espn.go.com/nba/',\n",
    "       u'expanded_url': u'http://espn.go.com/nba/',\n",
    "       u'indices': [0, 22],\n",
    "       u'url': u'http://t.co/zIeRt15zFT'}]}},\n",
    "   u'favourites_count': 148,\n",
    "   u'follow_request_sent': False,\n",
    "   u'followers_count': 1503118,\n",
    "   u'following': False,\n",
    "   u'friends_count': 736,\n",
    "   u'geo_enabled': False,\n",
    "   u'id': 74518740,\n",
    "   u'id_str': u'74518740',\n",
    "   u'is_translation_enabled': False,\n",
    "   u'is_translator': False,\n",
    "   u'lang': u'en',\n",
    "   u'listed_count': 10181,\n",
    "   u'location': u'ESPN',\n",
    "   u'name': u'NBA on ESPN',\n",
    "   u'notifications': False,\n",
    "   u'profile_background_color': u'A15E00',\n",
    "   u'profile_background_image_url': u'http://pbs.twimg.com/profile_background_images/47166024/NBA_bg.jpg',\n",
    "   u'profile_background_image_url_https': u'https://pbs.twimg.com/profile_background_images/47166024/NBA_bg.jpg',\n",
    "   u'profile_background_tile': True,\n",
    "   u'profile_banner_url': u'https://pbs.twimg.com/profile_banners/74518740/1429300276',\n",
    "   u'profile_image_url': u'http://pbs.twimg.com/profile_images/586012188302708736/B6IMM6eu_normal.jpg',\n",
    "   u'profile_image_url_https': u'https://pbs.twimg.com/profile_images/586012188302708736/B6IMM6eu_normal.jpg',\n",
    "   u'profile_link_color': u'0000FF',\n",
    "   u'profile_sidebar_border_color': u'EEEEEE',\n",
    "   u'profile_sidebar_fill_color': u'E6EDF2',\n",
    "   u'profile_text_color': u'333333',\n",
    "   u'profile_use_background_image': True,\n",
    "   u'protected': False,\n",
    "   u'screen_name': u'ESPNNBA',\n",
    "   u'statuses_count': 45836,\n",
    "   u'time_zone': u'Quito',\n",
    "   u'url': u'http://t.co/zIeRt15zFT',\n",
    "   u'utc_offset': -18000,\n",
    "   u'verified': True}}</code>\n",
    "<br><br>\n",
    "\n",
    "As you can see, whatever a Tweet is, it is complex thing. (Can you even find the text of the tweet that actually shows up on your tweetbox?) What is clear is it exists in a set of relationships. And if there are relationships, there must be things being related. So let's just call those things *objects* to be stay generic as possible. \n",
    "\n",
    "In object-oriented programming (OO), objects are a collection of *fields* (or attributes) and *methods*, procedures to modify the fields. The essense of an *OO* program is the design of the objects and manipulation of them via methods. (OK, and a bunch of stuff we won't get into.) To do something with objects, we need to know a lot about them, but if we are just moving them around as we are when collecting data, we just need the names of the fields and their contents. So we need a file format that can keep track of attributes of objects.\n",
    "\n",
    "Maybe just a standard spreadsheet (.csv, .xls) you're probably intimately familiar with could work? A row for each observation can work fine for keeping track of an observation and its attributes, but what if an attribute is a reference to something other than another observation of the same type? That is, to another type of object? There is a good chance we'll want to know more about those other objects so we want it's attributes too. Unfortunately, a spreadsheet isn't very convenient for transporting that type of information. The JSON format can help us address this problem and that's why lots of data rich APIs use them.\n",
    "\n",
    "Going back the tweet above, you can see that this record of a single tweet contains references to lots of other objects, each with it's own attributes. They are indented and encased in curly brackets {}. Examples are the posting user, \"entities\", and urls.\n",
    "\n",
    "It's having this type of data that makes big data interesting\\* to social scientists IMAO. These data offer a \n",
    "chance to understand the rich, relational context of the observations. We can track them through time better too. I \n",
    "\n",
    "\\*Unless you just want a [large N sample to ensure significant (i.e. publishable) p-values](https://www.youtube.com/watch?v=0pQ3AQ8olEo) (see [Granger 1998](http://onlinelibrary.wiley.com/doi/10.1111/1467-9574.00084/abstract)). \n",
    "\n",
    "<br>"
   ]
  },
  {
   "cell_type": "markdown",
   "metadata": {},
   "source": [
    "If you continue doing big data research, you'll encounter other formats, but JSON is a good starting point. You'll have a chance to collect live Twitter data soon, but to first get you more familiar with Python and the general workflow, we'll start with some limited, but real Facebook data."
   ]
  },
  {
   "cell_type": "markdown",
   "metadata": {},
   "source": [
    "<br><br>\n",
    "###Topic 2: Facebook data\n",
    "\n",
    "Facebook is a great big data source because it has a diverse user base and a variety of data types. Two months ago it was a fantastic resource for some introspective research about the shape and composition of your network, but they just changed the privacy settings of the API so that we can't get the data. Even the very cool Wolfram Alpha tool has [been shut down](http://company.wolfram.com/news/2015/wolframalpha-personal-analytics-for-facebook-last-chance-to-analyze-your-friend-network/).\n",
    "\n",
    "<br>\n",
    "\n",
    "Today we'll use some networks I saved (and anonymized) in order to practice loading JSON formatted data into a Pandas data structure so that we can run queries and produce results.\n",
    "The Facebook Restful API responds with JSON formatted data and I've cleaned the data up and stored them .json files. \n",
    "\n",
    "This is what a single entry looks like:\n",
    "\n",
    "<code>{\n",
    " \"gender\": \"female\", \n",
    " \"id\": 15, \n",
    " \"name\": \"RM\",\n",
    " \"mutuals\": \"[8, 29, 66, 75, 100, 139, 155, 160, 194, 218, 286, 299, 322]\",\n",
    " \"known from\": 4\n",
    "}</code>\n",
    "\n",
    "A typical JSON file will have lots of entries seperated by commas. If you want to see one, open up the file <code>1_data.json</code> in a text editor.\n",
    "\n",
    "\n",
    "Now let's go through this entry and explain the fields:\n",
    "\n",
    "- gender: The user specified gender. The possible values are male, female, or None (because Facebook doesn't require you to provide one.\n",
    "- id: A unique number identifying the user. 1 is saved for the user whose network we are looking at (called the ego in network science).\n",
    "- name: The initials of the user.\n",
    "- mutuals: The list of IDs for the friends this user has in common with the Ego (i.e. mutual friends).\n",
    "- known from: A categorical variable identifying where the Ego knows this user from\n",
    "\n",
    "This is only a sliver of the data fields Facebook used to provide (plus a custom variable [known from]), but we can do a lot with these once we have a bunch of them into Python's memory. Let's do that now.\n",
    "\n",
    "\n",
    "\n"
   ]
  },
  {
   "cell_type": "markdown",
   "metadata": {},
   "source": [
    "<br>\n",
    "<br>\n",
    "##Topic 3: Loading the Facebook data\n",
    "\n",
    "To get entries into memory, we'll use a very convenient Python module called <code>json</code>. Let's import it on the next line."
   ]
  },
  {
   "cell_type": "code",
   "execution_count": 40,
   "metadata": {
    "collapsed": false
   },
   "outputs": [],
   "source": [
    "import json"
   ]
  },
  {
   "cell_type": "markdown",
   "metadata": {},
   "source": [
    "<code>json</code> can encode Python data structures into JSON formatted text and visa versa. To do this file writing and reading, it makes use of Python's standard file I/O (input/output) tools. The next line uses the I/O function <code>open()</code> to open the given file in the read mode. This is because we used the \"r\" argument. If we want to be able to write, we'd use \"w\" to (over)write a new file or \"a\" to append to the end of an existing file. "
   ]
  },
  {
   "cell_type": "code",
   "execution_count": 174,
   "metadata": {
    "collapsed": false
   },
   "outputs": [],
   "source": [
    "reader = open(\"1_data.json\", \"r\")"
   ]
  },
  {
   "cell_type": "markdown",
   "metadata": {},
   "source": [
    "We now have a reader (which I've named <code>reader</code>) attached to the file. The reader has functions (e.g. <code>reader.read()</code> and <code>reader.readline()</code>) that lets us read what is in the file. We don't use them here; instead we just pass the whole reader to the <code>json</code> module and it calls them as it. We let <code>json</code> read in the whole file on the next line."
   ]
  },
  {
   "cell_type": "code",
   "execution_count": 175,
   "metadata": {
    "collapsed": false
   },
   "outputs": [],
   "source": [
    "our_data = json.load(reader)"
   ]
  },
  {
   "cell_type": "markdown",
   "metadata": {},
   "source": [
    "Let's see what json did with the data by asking the type of object <code>our_data</code> is."
   ]
  },
  {
   "cell_type": "code",
   "execution_count": 55,
   "metadata": {
    "collapsed": false
   },
   "outputs": [
    {
     "name": "stdout",
     "output_type": "stream",
     "text": [
      "<type 'dict'>\n"
     ]
    }
   ],
   "source": [
    "print type(our_data)"
   ]
  },
  {
   "cell_type": "markdown",
   "metadata": {},
   "source": [
    "Great! You know what we can do with a Python dictionary. Let's look at what keys are in the dictionary."
   ]
  },
  {
   "cell_type": "code",
   "execution_count": 59,
   "metadata": {
    "collapsed": false
   },
   "outputs": [
    {
     "data": {
      "text/plain": [
       "[u'users']"
      ]
     },
     "execution_count": 59,
     "metadata": {},
     "output_type": "execute_result"
    }
   ],
   "source": [
    "our_data.keys()"
   ]
  },
  {
   "cell_type": "code",
   "execution_count": 61,
   "metadata": {
    "collapsed": false
   },
   "outputs": [
    {
     "name": "stdout",
     "output_type": "stream",
     "text": [
      "<type 'list'>\n"
     ]
    }
   ],
   "source": [
    "print type(our_data['users'])"
   ]
  },
  {
   "cell_type": "markdown",
   "metadata": {},
   "source": [
    "Well, it's pretty boring. That's because our .json file must have only one kind of object in it. Let's see what's in the list."
   ]
  },
  {
   "cell_type": "code",
   "execution_count": 56,
   "metadata": {
    "collapsed": false
   },
   "outputs": [
    {
     "data": {
      "text/plain": [
       "{u'gender': u'female',\n",
       " u'id': 1,\n",
       " u'known from': -1,\n",
       " u'mutuals': u'[2, 3, 4, 5, 6, 7, 8, 9, 10, 11, 12, 13, 14, 15, 16, 17, 18, 19, 20, 21, 22, 23, 24, 25, 26, 27, 28, 29, 30, 31, 32, 33, 34, 35, 36, 37, 38, 39, 40, 41, 42, 43, 44, 45, 46, 47, 48, 49, 50, 51, 52, 53, 54, 55, 56, 57, 58, 59, 60, 61, 62, 63, 64, 65, 66, 67, 68, 69, 70, 71, 72, 73, 74, 75, 76, 77, 78, 79, 80, 81, 82, 83, 84, 85, 86, 87, 88, 89, 90, 91, 92, 93, 94, 95, 96, 97, 98, 99, 100, 101, 102, 103, 104, 105, 106, 107, 108, 109, 110, 111, 112, 113, 114, 115, 116, 117, 118, 119, 120, 121, 122, 123, 124, 125, 126, 127, 128, 129, 130, 131, 132, 133, 134, 135, 136, 137, 138, 139, 140, 141, 142, 143, 144, 145, 146, 147, 148, 149, 150, 151, 152, 153, 154, 155, 156, 157, 158, 159, 160, 161, 162, 163, 164, 165, 166, 167, 168, 169, 170, 171, 172, 173, 174, 175, 176, 177, 178, 179, 180, 181, 182, 183, 184, 185, 186, 187, 188, 189, 190, 191, 192, 193, 194, 195, 196, 197, 198, 199, 200, 201, 202, 203, 204, 205, 206, 207, 208, 209, 210, 211, 212, 213, 214, 215, 216, 217, 218, 219, 220, 221, 222, 223, 224, 225, 226, 227, 228, 229, 230, 231, 232, 233, 234, 235, 236, 237, 238, 239, 240, 241, 242, 243, 244, 245, 246, 247, 248, 249, 250, 251, 252, 253, 254, 255, 256, 257, 258, 259, 260, 261, 262, 263, 264, 265, 266, 267, 268, 269, 270, 271, 272, 273, 274, 275, 276, 277, 278, 279, 280, 281, 282, 283, 284, 285, 286, 287, 288, 289, 290, 291, 292, 293, 294, 295, 296, 297, 298, 299, 300, 301, 302, 303, 304, 305, 306, 307, 308, 309, 310, 311, 312, 313, 314, 315, 316, 317, 318, 319, 320, 321, 322, 323, 324, 325, 326, 327, 328, 329, 330, 331, 332, 333, 334, 335, 336, 337, 338, 339, 340, 341, 342, 343, 344, 345, 346, 347, 348, 349, 350, 351, 352, 353]',\n",
       " u'name': u'RN'}"
      ]
     },
     "execution_count": 56,
     "metadata": {},
     "output_type": "execute_result"
    }
   ],
   "source": [
    "our_data[\"users\"][0]"
   ]
  },
  {
   "cell_type": "code",
   "execution_count": 52,
   "metadata": {
    "collapsed": false
   },
   "outputs": [
    {
     "data": {
      "text/plain": [
       "[{u'gender': u'female',\n",
       "  u'id': 352,\n",
       "  u'known from': 1,\n",
       "  u'mutuals': u'[2, 5, 6, 16, 30, 49, 52, 64, 70, 73, 78, 82, 95, 133, 136, 150, 155, 200, 209, 216, 217, 232, 237, 244, 245, 249, 271, 275]',\n",
       "  u'name': u'RC'},\n",
       " {u'gender': u'male',\n",
       "  u'id': 353,\n",
       "  u'known from': 7,\n",
       "  u'mutuals': u'[2, 5, 6, 16, 30, 49, 52, 64, 70, 73, 78, 82, 95, 133, 136, 150, 155, 200, 209, 216, 217, 232, 237, 244, 245, 249, 271, 275]',\n",
       "  u'name': u'CA'}]"
      ]
     },
     "execution_count": 52,
     "metadata": {},
     "output_type": "execute_result"
    }
   ],
   "source": [
    "our_data[\"users\"][-2:]"
   ]
  },
  {
   "cell_type": "markdown",
   "metadata": {},
   "source": [
    "How many items are in this list?"
   ]
  },
  {
   "cell_type": "code",
   "execution_count": 47,
   "metadata": {
    "collapsed": false
   },
   "outputs": [
    {
     "data": {
      "text/plain": [
       "353"
      ]
     },
     "execution_count": 47,
     "metadata": {},
     "output_type": "execute_result"
    }
   ],
   "source": [
    "len(our_data[\"users\"])"
   ]
  },
  {
   "cell_type": "markdown",
   "metadata": {},
   "source": [
    "And what data type is are the elements in the list? Just grab one and check."
   ]
  },
  {
   "cell_type": "code",
   "execution_count": 62,
   "metadata": {
    "collapsed": false
   },
   "outputs": [
    {
     "name": "stdout",
     "output_type": "stream",
     "text": [
      "<type 'dict'>\n"
     ]
    }
   ],
   "source": [
    "print type(our_data[\"users\"][0])"
   ]
  },
  {
   "cell_type": "markdown",
   "metadata": {},
   "source": [
    "OK, so the <code>json.load()</code> method has given use a dictionary with a list of dictionaries inside of it. (Python is great at nesting data types like this.) An item in the list is a dictionary of attribute/value combinations for each object in the file. The use of a dictionary makes sense because it corresponds closely to the structure of the JSON format. But what to do with this list of dictionaries?"
   ]
  },
  {
   "cell_type": "markdown",
   "metadata": {},
   "source": [
    "<br>\n",
    "<br>\n",
    "\n",
    "## Topic 4: Moving data into a Pandas dataframe\n",
    "\n",
    "We now have our data into the computer's memory where we can analyse it. We could leave it in the list called <code>our_data</code> for our analyses but these Python types weren't designed for a lot of the manipulations and queries we could imagine running. Instead, we'll make use of Pandas, a Python module for data analysis. It features some easy I/O functions so it can serve as a makeshift database for smaller projects. Let get started with it."
   ]
  },
  {
   "cell_type": "code",
   "execution_count": 76,
   "metadata": {
    "collapsed": true
   },
   "outputs": [],
   "source": [
    "import pandas as pd"
   ]
  },
  {
   "cell_type": "markdown",
   "metadata": {},
   "source": [
    "The core tools of Pandas are two data structure objects called <code>Series</code> and <code>Dataframe</code>. These let us package up data that is already in Python objects in something that allows us to do analysis directly. Details [can be found here](http://http://pandas.pydata.org/), but for now we'll focus on just on what's necessary to construct a Dataframe.\n",
    "\n",
    "A DataFrame is designed to be populated all at once. You can append DataFrames together easily when you need to add data to an existing DataFrame, but single observations are generally not loaded directly into the DataFrames.\n",
    "\n",
    "When we are creating a new dataframe, we can provide a list that specifies the data elements (attributes) for the yet-empty dataframe. But we don't have to do that from the get-go! We could just start loading in data, adding the appropriate indices as we go, but because we know what attributes our data have, we'll create a dataframe with an column header. \n"
   ]
  },
  {
   "cell_type": "code",
   "execution_count": 90,
   "metadata": {
    "collapsed": false
   },
   "outputs": [],
   "source": [
    "attribute_names = [\"id\", \"gender\", \"name\", \"known from\", \"mutuals\"]\n",
    "our_df = pd.DataFrame(columns=attribute_names)"
   ]
  },
  {
   "cell_type": "markdown",
   "metadata": {},
   "source": [
    "We can see the \"shape\" of our dataframe by looking at its shape field. It should have 0 rows and 5 columns because we've only supplied the header. (Pandas seems to be pretty agnostic about how we orient the data, but we'll stick with the traditional rows-as-observations orientation for now.)"
   ]
  },
  {
   "cell_type": "code",
   "execution_count": 82,
   "metadata": {
    "collapsed": false
   },
   "outputs": [
    {
     "data": {
      "text/plain": [
       "(0, 5)"
      ]
     },
     "execution_count": 82,
     "metadata": {},
     "output_type": "execute_result"
    }
   ],
   "source": [
    "our_df.shape"
   ]
  },
  {
   "cell_type": "markdown",
   "metadata": {},
   "source": [
    "Pandas has some nice tools for very quickly parsing data from csv and json into a DataFrame, but because you all are likely to have ongoing or Python-based data collection, we'll build our DataFrame step-by-step. Let's look at what we have so far by running the next line."
   ]
  },
  {
   "cell_type": "code",
   "execution_count": 91,
   "metadata": {
    "collapsed": false
   },
   "outputs": [
    {
     "data": {
      "text/html": [
       "<div style=\"max-height:1000px;max-width:1500px;overflow:auto;\">\n",
       "<table border=\"1\" class=\"dataframe\">\n",
       "  <thead>\n",
       "    <tr style=\"text-align: right;\">\n",
       "      <th></th>\n",
       "      <th>id</th>\n",
       "      <th>gender</th>\n",
       "      <th>name</th>\n",
       "      <th>known from</th>\n",
       "      <th>mutuals</th>\n",
       "    </tr>\n",
       "  </thead>\n",
       "  <tbody>\n",
       "  </tbody>\n",
       "</table>\n",
       "</div>"
      ],
      "text/plain": [
       "Empty DataFrame\n",
       "Columns: [id, gender, name, known from, mutuals]\n",
       "Index: []"
      ]
     },
     "execution_count": 91,
     "metadata": {},
     "output_type": "execute_result"
    }
   ],
   "source": [
    "our_df"
   ]
  },
  {
   "cell_type": "markdown",
   "metadata": {},
   "source": [
    "These next three cells show you what the basic task is. We create Series objects for each observation (user) and "
   ]
  },
  {
   "cell_type": "code",
   "execution_count": 100,
   "metadata": {
    "collapsed": true
   },
   "outputs": [],
   "source": [
    "series1 = pd.Series([1,1,1,1,1], index=[\"id\", \"gender\", \"name\", \"known from\", \"mutuals\"], name=1)\n",
    "series2 = pd.Series([2,2,2,2,2], index=[\"id\", \"gender\", \"name\", \"known from\", \"mutuals\"], name=2)"
   ]
  },
  {
   "cell_type": "code",
   "execution_count": 106,
   "metadata": {
    "collapsed": true
   },
   "outputs": [],
   "source": [
    "list_of_observations = [series1, series2]"
   ]
  },
  {
   "cell_type": "code",
   "execution_count": 107,
   "metadata": {
    "collapsed": false
   },
   "outputs": [
    {
     "data": {
      "text/html": [
       "<div style=\"max-height:1000px;max-width:1500px;overflow:auto;\">\n",
       "<table border=\"1\" class=\"dataframe\">\n",
       "  <thead>\n",
       "    <tr style=\"text-align: right;\">\n",
       "      <th></th>\n",
       "      <th>id</th>\n",
       "      <th>gender</th>\n",
       "      <th>name</th>\n",
       "      <th>known from</th>\n",
       "      <th>mutuals</th>\n",
       "    </tr>\n",
       "  </thead>\n",
       "  <tbody>\n",
       "    <tr>\n",
       "      <th>1</th>\n",
       "      <td> 1</td>\n",
       "      <td> 1</td>\n",
       "      <td> 1</td>\n",
       "      <td> 1</td>\n",
       "      <td> 1</td>\n",
       "    </tr>\n",
       "    <tr>\n",
       "      <th>2</th>\n",
       "      <td> 2</td>\n",
       "      <td> 2</td>\n",
       "      <td> 2</td>\n",
       "      <td> 2</td>\n",
       "      <td> 2</td>\n",
       "    </tr>\n",
       "  </tbody>\n",
       "</table>\n",
       "</div>"
      ],
      "text/plain": [
       "   id  gender  name  known from  mutuals\n",
       "1   1       1     1           1        1\n",
       "2   2       2     2           2        2"
      ]
     },
     "execution_count": 107,
     "metadata": {},
     "output_type": "execute_result"
    }
   ],
   "source": [
    "our_df.append(list_of_observations)"
   ]
  },
  {
   "cell_type": "markdown",
   "metadata": {},
   "source": [
    "OK, that was easy enough. So now we need to figure out how to get our JSON data into series. It turns out, that isn't too hard. Because the observation is in a dictionary, we can use the <code>keys()</code> and <code>values()</code> methods to get the basis information. Note that each of those methods returns a list that can be given to the Series constructor."
   ]
  },
  {
   "cell_type": "code",
   "execution_count": 114,
   "metadata": {
    "collapsed": false
   },
   "outputs": [
    {
     "data": {
      "text/plain": [
       "[u'mutuals', u'gender', u'known from', u'id', u'name']"
      ]
     },
     "execution_count": 114,
     "metadata": {},
     "output_type": "execute_result"
    }
   ],
   "source": [
    "our_data['users'][0].keys()"
   ]
  },
  {
   "cell_type": "code",
   "execution_count": 113,
   "metadata": {
    "collapsed": false
   },
   "outputs": [
    {
     "data": {
      "text/plain": [
       "[u'[2, 3, 4, 5, 6, 7, 8, 9, 10, 11, 12, 13, 14, 15, 16, 17, 18, 19, 20, 21, 22, 23, 24, 25, 26, 27, 28, 29, 30, 31, 32, 33, 34, 35, 36, 37, 38, 39, 40, 41, 42, 43, 44, 45, 46, 47, 48, 49, 50, 51, 52, 53, 54, 55, 56, 57, 58, 59, 60, 61, 62, 63, 64, 65, 66, 67, 68, 69, 70, 71, 72, 73, 74, 75, 76, 77, 78, 79, 80, 81, 82, 83, 84, 85, 86, 87, 88, 89, 90, 91, 92, 93, 94, 95, 96, 97, 98, 99, 100, 101, 102, 103, 104, 105, 106, 107, 108, 109, 110, 111, 112, 113, 114, 115, 116, 117, 118, 119, 120, 121, 122, 123, 124, 125, 126, 127, 128, 129, 130, 131, 132, 133, 134, 135, 136, 137, 138, 139, 140, 141, 142, 143, 144, 145, 146, 147, 148, 149, 150, 151, 152, 153, 154, 155, 156, 157, 158, 159, 160, 161, 162, 163, 164, 165, 166, 167, 168, 169, 170, 171, 172, 173, 174, 175, 176, 177, 178, 179, 180, 181, 182, 183, 184, 185, 186, 187, 188, 189, 190, 191, 192, 193, 194, 195, 196, 197, 198, 199, 200, 201, 202, 203, 204, 205, 206, 207, 208, 209, 210, 211, 212, 213, 214, 215, 216, 217, 218, 219, 220, 221, 222, 223, 224, 225, 226, 227, 228, 229, 230, 231, 232, 233, 234, 235, 236, 237, 238, 239, 240, 241, 242, 243, 244, 245, 246, 247, 248, 249, 250, 251, 252, 253, 254, 255, 256, 257, 258, 259, 260, 261, 262, 263, 264, 265, 266, 267, 268, 269, 270, 271, 272, 273, 274, 275, 276, 277, 278, 279, 280, 281, 282, 283, 284, 285, 286, 287, 288, 289, 290, 291, 292, 293, 294, 295, 296, 297, 298, 299, 300, 301, 302, 303, 304, 305, 306, 307, 308, 309, 310, 311, 312, 313, 314, 315, 316, 317, 318, 319, 320, 321, 322, 323, 324, 325, 326, 327, 328, 329, 330, 331, 332, 333, 334, 335, 336, 337, 338, 339, 340, 341, 342, 343, 344, 345, 346, 347, 348, 349, 350, 351, 352, 353]',\n",
       " u'female',\n",
       " -1,\n",
       " 1,\n",
       " u'RN']"
      ]
     },
     "execution_count": 113,
     "metadata": {},
     "output_type": "execute_result"
    }
   ],
   "source": [
    "our_data['users'][0].values()"
   ]
  },
  {
   "cell_type": "code",
   "execution_count": 115,
   "metadata": {
    "collapsed": true
   },
   "outputs": [],
   "source": [
    "example_series = pd.Series(our_data['users'][0].values(), index=our_data['users'][0].keys())"
   ]
  },
  {
   "cell_type": "code",
   "execution_count": 149,
   "metadata": {
    "collapsed": false
   },
   "outputs": [],
   "source": [
    "our_df = our_df.append([example_series])"
   ]
  },
  {
   "cell_type": "code",
   "execution_count": 150,
   "metadata": {
    "collapsed": false,
    "scrolled": true
   },
   "outputs": [
    {
     "data": {
      "text/html": [
       "<div style=\"max-height:1000px;max-width:1500px;overflow:auto;\">\n",
       "<table border=\"1\" class=\"dataframe\">\n",
       "  <thead>\n",
       "    <tr style=\"text-align: right;\">\n",
       "      <th></th>\n",
       "      <th>id</th>\n",
       "      <th>gender</th>\n",
       "      <th>name</th>\n",
       "      <th>known from</th>\n",
       "      <th>mutuals</th>\n",
       "    </tr>\n",
       "  </thead>\n",
       "  <tbody>\n",
       "    <tr>\n",
       "      <th>1  </th>\n",
       "      <td>   1</td>\n",
       "      <td> female</td>\n",
       "      <td> RN</td>\n",
       "      <td>-1</td>\n",
       "      <td> [2, 3, 4, 5, 6, 7, 8, 9, 10, 11, 12, 13, 14, 1...</td>\n",
       "    </tr>\n",
       "    <tr>\n",
       "      <th>2  </th>\n",
       "      <td>   2</td>\n",
       "      <td> female</td>\n",
       "      <td> IS</td>\n",
       "      <td> 1</td>\n",
       "      <td> [4, 5, 6, 10, 16, 20, 30, 31, 49, 52, 55, 64, ...</td>\n",
       "    </tr>\n",
       "    <tr>\n",
       "      <th>3  </th>\n",
       "      <td>   3</td>\n",
       "      <td>    NaN</td>\n",
       "      <td> MC</td>\n",
       "      <td> 4</td>\n",
       "      <td>            [4, 126, 147, 176, 221, 262, 263, 302]</td>\n",
       "    </tr>\n",
       "    <tr>\n",
       "      <th>4  </th>\n",
       "      <td>   4</td>\n",
       "      <td> female</td>\n",
       "      <td> RD</td>\n",
       "      <td> 3</td>\n",
       "      <td>        [2, 3, 5, 59, 73, 126, 150, 176, 255, 263]</td>\n",
       "    </tr>\n",
       "    <tr>\n",
       "      <th>5  </th>\n",
       "      <td>   5</td>\n",
       "      <td> female</td>\n",
       "      <td> SG</td>\n",
       "      <td> 3</td>\n",
       "      <td> [2, 4, 6, 30, 31, 36, 37, 38, 49, 55, 63, 64, ...</td>\n",
       "    </tr>\n",
       "    <tr>\n",
       "      <th>6  </th>\n",
       "      <td>   6</td>\n",
       "      <td> female</td>\n",
       "      <td> JT</td>\n",
       "      <td> 1</td>\n",
       "      <td> [2, 5, 16, 30, 31, 37, 38, 49, 52, 63, 64, 66,...</td>\n",
       "    </tr>\n",
       "    <tr>\n",
       "      <th>7  </th>\n",
       "      <td>   7</td>\n",
       "      <td>   male</td>\n",
       "      <td> AP</td>\n",
       "      <td> 3</td>\n",
       "      <td>                               [78, 230, 281, 303]</td>\n",
       "    </tr>\n",
       "    <tr>\n",
       "      <th>8  </th>\n",
       "      <td>   8</td>\n",
       "      <td> female</td>\n",
       "      <td> KB</td>\n",
       "      <td> 1</td>\n",
       "      <td>    [15, 31, 75, 93, 139, 160, 238, 242, 245, 322]</td>\n",
       "    </tr>\n",
       "    <tr>\n",
       "      <th>9  </th>\n",
       "      <td>   9</td>\n",
       "      <td>   male</td>\n",
       "      <td> NK</td>\n",
       "      <td> 6</td>\n",
       "      <td>                                         [17, 233]</td>\n",
       "    </tr>\n",
       "    <tr>\n",
       "      <th>10 </th>\n",
       "      <td>  10</td>\n",
       "      <td> female</td>\n",
       "      <td> IP</td>\n",
       "      <td> 3</td>\n",
       "      <td>  [2, 16, 29, 30, 55, 70, 249, 271, 282, 303, 342]</td>\n",
       "    </tr>\n",
       "    <tr>\n",
       "      <th>11 </th>\n",
       "      <td>  11</td>\n",
       "      <td>   male</td>\n",
       "      <td> DP</td>\n",
       "      <td> 4</td>\n",
       "      <td>                                        [123, 162]</td>\n",
       "    </tr>\n",
       "    <tr>\n",
       "      <th>12 </th>\n",
       "      <td>  12</td>\n",
       "      <td>   male</td>\n",
       "      <td> EG</td>\n",
       "      <td> 4</td>\n",
       "      <td>                                                []</td>\n",
       "    </tr>\n",
       "    <tr>\n",
       "      <th>13 </th>\n",
       "      <td>  13</td>\n",
       "      <td>   male</td>\n",
       "      <td> ZM</td>\n",
       "      <td> 1</td>\n",
       "      <td> [14, 33, 40, 42, 71, 83, 84, 85, 92, 101, 102,...</td>\n",
       "    </tr>\n",
       "    <tr>\n",
       "      <th>14 </th>\n",
       "      <td>  14</td>\n",
       "      <td>   male</td>\n",
       "      <td> MP</td>\n",
       "      <td> 4</td>\n",
       "      <td>    [13, 26, 61, 84, 106, 164, 203, 213, 267, 307]</td>\n",
       "    </tr>\n",
       "    <tr>\n",
       "      <th>15 </th>\n",
       "      <td>  15</td>\n",
       "      <td> female</td>\n",
       "      <td> RM</td>\n",
       "      <td> 4</td>\n",
       "      <td> [8, 29, 66, 75, 100, 139, 155, 160, 194, 218, ...</td>\n",
       "    </tr>\n",
       "    <tr>\n",
       "      <th>16 </th>\n",
       "      <td>  16</td>\n",
       "      <td> female</td>\n",
       "      <td> JR</td>\n",
       "      <td> 4</td>\n",
       "      <td> [2, 6, 10, 30, 49, 52, 63, 64, 66, 70, 73, 77,...</td>\n",
       "    </tr>\n",
       "    <tr>\n",
       "      <th>17 </th>\n",
       "      <td>  17</td>\n",
       "      <td> female</td>\n",
       "      <td> LG</td>\n",
       "      <td> 4</td>\n",
       "      <td>   [9, 18, 23, 29, 30, 58, 69, 119, 195, 233, 238]</td>\n",
       "    </tr>\n",
       "    <tr>\n",
       "      <th>18 </th>\n",
       "      <td>  18</td>\n",
       "      <td>   male</td>\n",
       "      <td> WJ</td>\n",
       "      <td> 6</td>\n",
       "      <td>                                          [17, 69]</td>\n",
       "    </tr>\n",
       "    <tr>\n",
       "      <th>19 </th>\n",
       "      <td>  19</td>\n",
       "      <td> female</td>\n",
       "      <td> SW</td>\n",
       "      <td> 7</td>\n",
       "      <td>                                                []</td>\n",
       "    </tr>\n",
       "    <tr>\n",
       "      <th>20 </th>\n",
       "      <td>  20</td>\n",
       "      <td> female</td>\n",
       "      <td> SH</td>\n",
       "      <td> 4</td>\n",
       "      <td>                                                []</td>\n",
       "    </tr>\n",
       "    <tr>\n",
       "      <th>21 </th>\n",
       "      <td>  21</td>\n",
       "      <td> female</td>\n",
       "      <td> JK</td>\n",
       "      <td> 4</td>\n",
       "      <td>                                          [17, 27]</td>\n",
       "    </tr>\n",
       "    <tr>\n",
       "      <th>22 </th>\n",
       "      <td>  22</td>\n",
       "      <td> female</td>\n",
       "      <td> CM</td>\n",
       "      <td> 4</td>\n",
       "      <td>                                 [34, 39, 41, 153]</td>\n",
       "    </tr>\n",
       "    <tr>\n",
       "      <th>23 </th>\n",
       "      <td>  23</td>\n",
       "      <td> female</td>\n",
       "      <td> LM</td>\n",
       "      <td> 4</td>\n",
       "      <td>                [71, 116, 135, 189, 262, 336, 347]</td>\n",
       "    </tr>\n",
       "    <tr>\n",
       "      <th>24 </th>\n",
       "      <td>  24</td>\n",
       "      <td>   male</td>\n",
       "      <td> JF</td>\n",
       "      <td> 6</td>\n",
       "      <td>            [14, 40, 105, 106, 119, 164, 173, 267]</td>\n",
       "    </tr>\n",
       "    <tr>\n",
       "      <th>25 </th>\n",
       "      <td>  25</td>\n",
       "      <td> female</td>\n",
       "      <td> JS</td>\n",
       "      <td> 4</td>\n",
       "      <td>              [20, 21, 23, 79, 104, 105, 119, 199]</td>\n",
       "    </tr>\n",
       "    <tr>\n",
       "      <th>26 </th>\n",
       "      <td>  26</td>\n",
       "      <td>    NaN</td>\n",
       "      <td> DZ</td>\n",
       "      <td> 4</td>\n",
       "      <td>                                                []</td>\n",
       "    </tr>\n",
       "    <tr>\n",
       "      <th>27 </th>\n",
       "      <td>  27</td>\n",
       "      <td> female</td>\n",
       "      <td> MR</td>\n",
       "      <td> 4</td>\n",
       "      <td>                              [10, 15, 17, 30, 69]</td>\n",
       "    </tr>\n",
       "    <tr>\n",
       "      <th>28 </th>\n",
       "      <td>  28</td>\n",
       "      <td> female</td>\n",
       "      <td> AS</td>\n",
       "      <td> 4</td>\n",
       "      <td> [2, 5, 6, 10, 16, 17, 29, 31, 49, 54, 55, 65, ...</td>\n",
       "    </tr>\n",
       "    <tr>\n",
       "      <th>29 </th>\n",
       "      <td>  29</td>\n",
       "      <td>   male</td>\n",
       "      <td> JG</td>\n",
       "      <td> 6</td>\n",
       "      <td> [2, 5, 6, 8, 30, 37, 49, 63, 64, 66, 67, 70, 7...</td>\n",
       "    </tr>\n",
       "    <tr>\n",
       "      <th>30 </th>\n",
       "      <td>  30</td>\n",
       "      <td> female</td>\n",
       "      <td> TB</td>\n",
       "      <td> 1</td>\n",
       "      <td> [51, 53, 57, 100, 139, 141, 145, 160, 186, 191...</td>\n",
       "    </tr>\n",
       "    <tr>\n",
       "      <th>...</th>\n",
       "      <td>...</td>\n",
       "      <td>...</td>\n",
       "      <td>...</td>\n",
       "      <td>...</td>\n",
       "      <td>...</td>\n",
       "    </tr>\n",
       "    <tr>\n",
       "      <th>325</th>\n",
       "      <td> 325</td>\n",
       "      <td>   male</td>\n",
       "      <td> JR</td>\n",
       "      <td> 1</td>\n",
       "      <td> [25, 114, 189, 212, 247, 268, 288, 295, 336, 337]</td>\n",
       "    </tr>\n",
       "    <tr>\n",
       "      <th>326</th>\n",
       "      <td> 326</td>\n",
       "      <td> female</td>\n",
       "      <td> VO</td>\n",
       "      <td> 1</td>\n",
       "      <td> [2, 6, 30, 54, 55, 65, 95, 181, 237, 238, 257,...</td>\n",
       "    </tr>\n",
       "    <tr>\n",
       "      <th>327</th>\n",
       "      <td> 327</td>\n",
       "      <td>   male</td>\n",
       "      <td> EM</td>\n",
       "      <td> 1</td>\n",
       "      <td>                                   [294, 300, 310]</td>\n",
       "    </tr>\n",
       "    <tr>\n",
       "      <th>328</th>\n",
       "      <td> 328</td>\n",
       "      <td>   male</td>\n",
       "      <td> AS</td>\n",
       "      <td> 7</td>\n",
       "      <td> [37, 44, 49, 52, 70, 73, 126, 140, 147, 150, 1...</td>\n",
       "    </tr>\n",
       "    <tr>\n",
       "      <th>329</th>\n",
       "      <td> 329</td>\n",
       "      <td>   male</td>\n",
       "      <td> GM</td>\n",
       "      <td> 1</td>\n",
       "      <td>                              [248, 280, 310, 319]</td>\n",
       "    </tr>\n",
       "    <tr>\n",
       "      <th>330</th>\n",
       "      <td> 330</td>\n",
       "      <td>   male</td>\n",
       "      <td> EN</td>\n",
       "      <td> 1</td>\n",
       "      <td> [5, 36, 37, 38, 55, 67, 76, 126, 132, 134, 147...</td>\n",
       "    </tr>\n",
       "    <tr>\n",
       "      <th>331</th>\n",
       "      <td> 331</td>\n",
       "      <td>   male</td>\n",
       "      <td> IS</td>\n",
       "      <td> 7</td>\n",
       "      <td>  [87, 91, 146, 183, 253, 260, 311, 312, 313, 338]</td>\n",
       "    </tr>\n",
       "    <tr>\n",
       "      <th>332</th>\n",
       "      <td> 332</td>\n",
       "      <td> female</td>\n",
       "      <td> NS</td>\n",
       "      <td> 6</td>\n",
       "      <td> [2, 5, 6, 16, 30, 49, 52, 64, 70, 73, 78, 82, ...</td>\n",
       "    </tr>\n",
       "    <tr>\n",
       "      <th>333</th>\n",
       "      <td> 333</td>\n",
       "      <td> female</td>\n",
       "      <td> LK</td>\n",
       "      <td> 4</td>\n",
       "      <td> [2, 5, 6, 16, 30, 49, 52, 64, 70, 73, 78, 82, ...</td>\n",
       "    </tr>\n",
       "    <tr>\n",
       "      <th>334</th>\n",
       "      <td> 334</td>\n",
       "      <td>   male</td>\n",
       "      <td> MR</td>\n",
       "      <td> 1</td>\n",
       "      <td> [2, 5, 6, 16, 30, 49, 52, 64, 70, 73, 78, 82, ...</td>\n",
       "    </tr>\n",
       "    <tr>\n",
       "      <th>335</th>\n",
       "      <td> 335</td>\n",
       "      <td>   male</td>\n",
       "      <td> WR</td>\n",
       "      <td> 7</td>\n",
       "      <td> [2, 5, 6, 16, 30, 49, 52, 64, 70, 73, 78, 82, ...</td>\n",
       "    </tr>\n",
       "    <tr>\n",
       "      <th>336</th>\n",
       "      <td> 336</td>\n",
       "      <td>   male</td>\n",
       "      <td> GB</td>\n",
       "      <td> 6</td>\n",
       "      <td> [2, 5, 6, 16, 30, 49, 52, 64, 70, 73, 78, 82, ...</td>\n",
       "    </tr>\n",
       "    <tr>\n",
       "      <th>337</th>\n",
       "      <td> 337</td>\n",
       "      <td>    NaN</td>\n",
       "      <td> PM</td>\n",
       "      <td> 4</td>\n",
       "      <td> [2, 5, 6, 16, 30, 49, 52, 64, 70, 73, 78, 82, ...</td>\n",
       "    </tr>\n",
       "    <tr>\n",
       "      <th>338</th>\n",
       "      <td> 338</td>\n",
       "      <td> female</td>\n",
       "      <td> BB</td>\n",
       "      <td> 7</td>\n",
       "      <td> [2, 5, 6, 16, 30, 49, 52, 64, 70, 73, 78, 82, ...</td>\n",
       "    </tr>\n",
       "    <tr>\n",
       "      <th>339</th>\n",
       "      <td> 339</td>\n",
       "      <td> female</td>\n",
       "      <td> SB</td>\n",
       "      <td> 6</td>\n",
       "      <td> [2, 5, 6, 16, 30, 49, 52, 64, 70, 73, 78, 82, ...</td>\n",
       "    </tr>\n",
       "    <tr>\n",
       "      <th>340</th>\n",
       "      <td> 340</td>\n",
       "      <td>   male</td>\n",
       "      <td> BP</td>\n",
       "      <td> 6</td>\n",
       "      <td> [2, 5, 6, 16, 30, 49, 52, 64, 70, 73, 78, 82, ...</td>\n",
       "    </tr>\n",
       "    <tr>\n",
       "      <th>341</th>\n",
       "      <td> 341</td>\n",
       "      <td> female</td>\n",
       "      <td> JL</td>\n",
       "      <td> 4</td>\n",
       "      <td> [2, 5, 6, 16, 30, 49, 52, 64, 70, 73, 78, 82, ...</td>\n",
       "    </tr>\n",
       "    <tr>\n",
       "      <th>342</th>\n",
       "      <td> 342</td>\n",
       "      <td> female</td>\n",
       "      <td> TW</td>\n",
       "      <td> 1</td>\n",
       "      <td> [2, 5, 6, 16, 30, 49, 52, 64, 70, 73, 78, 82, ...</td>\n",
       "    </tr>\n",
       "    <tr>\n",
       "      <th>343</th>\n",
       "      <td> 343</td>\n",
       "      <td> female</td>\n",
       "      <td> MH</td>\n",
       "      <td> 1</td>\n",
       "      <td> [2, 5, 6, 16, 30, 49, 52, 64, 70, 73, 78, 82, ...</td>\n",
       "    </tr>\n",
       "    <tr>\n",
       "      <th>344</th>\n",
       "      <td> 344</td>\n",
       "      <td>   male</td>\n",
       "      <td> MB</td>\n",
       "      <td> 6</td>\n",
       "      <td> [2, 5, 6, 16, 30, 49, 52, 64, 70, 73, 78, 82, ...</td>\n",
       "    </tr>\n",
       "    <tr>\n",
       "      <th>345</th>\n",
       "      <td> 345</td>\n",
       "      <td> female</td>\n",
       "      <td> GD</td>\n",
       "      <td> 4</td>\n",
       "      <td> [2, 5, 6, 16, 30, 49, 52, 64, 70, 73, 78, 82, ...</td>\n",
       "    </tr>\n",
       "    <tr>\n",
       "      <th>346</th>\n",
       "      <td> 346</td>\n",
       "      <td> female</td>\n",
       "      <td> MB</td>\n",
       "      <td> 4</td>\n",
       "      <td> [2, 5, 6, 16, 30, 49, 52, 64, 70, 73, 78, 82, ...</td>\n",
       "    </tr>\n",
       "    <tr>\n",
       "      <th>347</th>\n",
       "      <td> 347</td>\n",
       "      <td> female</td>\n",
       "      <td> KH</td>\n",
       "      <td> 4</td>\n",
       "      <td> [2, 5, 6, 16, 30, 49, 52, 64, 70, 73, 78, 82, ...</td>\n",
       "    </tr>\n",
       "    <tr>\n",
       "      <th>348</th>\n",
       "      <td> 348</td>\n",
       "      <td>   male</td>\n",
       "      <td> ED</td>\n",
       "      <td> 1</td>\n",
       "      <td> [2, 5, 6, 16, 30, 49, 52, 64, 70, 73, 78, 82, ...</td>\n",
       "    </tr>\n",
       "    <tr>\n",
       "      <th>349</th>\n",
       "      <td> 349</td>\n",
       "      <td> female</td>\n",
       "      <td> CL</td>\n",
       "      <td> 6</td>\n",
       "      <td> [2, 5, 6, 16, 30, 49, 52, 64, 70, 73, 78, 82, ...</td>\n",
       "    </tr>\n",
       "    <tr>\n",
       "      <th>350</th>\n",
       "      <td> 350</td>\n",
       "      <td> female</td>\n",
       "      <td> YP</td>\n",
       "      <td> 4</td>\n",
       "      <td> [2, 5, 6, 16, 30, 49, 52, 64, 70, 73, 78, 82, ...</td>\n",
       "    </tr>\n",
       "    <tr>\n",
       "      <th>351</th>\n",
       "      <td> 351</td>\n",
       "      <td> female</td>\n",
       "      <td> CA</td>\n",
       "      <td> 7</td>\n",
       "      <td> [2, 5, 6, 16, 30, 49, 52, 64, 70, 73, 78, 82, ...</td>\n",
       "    </tr>\n",
       "    <tr>\n",
       "      <th>352</th>\n",
       "      <td> 352</td>\n",
       "      <td> female</td>\n",
       "      <td> RC</td>\n",
       "      <td> 1</td>\n",
       "      <td> [2, 5, 6, 16, 30, 49, 52, 64, 70, 73, 78, 82, ...</td>\n",
       "    </tr>\n",
       "    <tr>\n",
       "      <th>353</th>\n",
       "      <td> 353</td>\n",
       "      <td>   male</td>\n",
       "      <td> CA</td>\n",
       "      <td> 7</td>\n",
       "      <td> [2, 5, 6, 16, 30, 49, 52, 64, 70, 73, 78, 82, ...</td>\n",
       "    </tr>\n",
       "    <tr>\n",
       "      <th>0  </th>\n",
       "      <td>   1</td>\n",
       "      <td> female</td>\n",
       "      <td> RN</td>\n",
       "      <td>-1</td>\n",
       "      <td> [2, 3, 4, 5, 6, 7, 8, 9, 10, 11, 12, 13, 14, 1...</td>\n",
       "    </tr>\n",
       "  </tbody>\n",
       "</table>\n",
       "<p>354 rows × 5 columns</p>\n",
       "</div>"
      ],
      "text/plain": [
       "      id  gender name  known from  \\\n",
       "1      1  female   RN          -1   \n",
       "2      2  female   IS           1   \n",
       "3      3     NaN   MC           4   \n",
       "4      4  female   RD           3   \n",
       "5      5  female   SG           3   \n",
       "6      6  female   JT           1   \n",
       "7      7    male   AP           3   \n",
       "8      8  female   KB           1   \n",
       "9      9    male   NK           6   \n",
       "10    10  female   IP           3   \n",
       "11    11    male   DP           4   \n",
       "12    12    male   EG           4   \n",
       "13    13    male   ZM           1   \n",
       "14    14    male   MP           4   \n",
       "15    15  female   RM           4   \n",
       "16    16  female   JR           4   \n",
       "17    17  female   LG           4   \n",
       "18    18    male   WJ           6   \n",
       "19    19  female   SW           7   \n",
       "20    20  female   SH           4   \n",
       "21    21  female   JK           4   \n",
       "22    22  female   CM           4   \n",
       "23    23  female   LM           4   \n",
       "24    24    male   JF           6   \n",
       "25    25  female   JS           4   \n",
       "26    26     NaN   DZ           4   \n",
       "27    27  female   MR           4   \n",
       "28    28  female   AS           4   \n",
       "29    29    male   JG           6   \n",
       "30    30  female   TB           1   \n",
       "..   ...     ...  ...         ...   \n",
       "325  325    male   JR           1   \n",
       "326  326  female   VO           1   \n",
       "327  327    male   EM           1   \n",
       "328  328    male   AS           7   \n",
       "329  329    male   GM           1   \n",
       "330  330    male   EN           1   \n",
       "331  331    male   IS           7   \n",
       "332  332  female   NS           6   \n",
       "333  333  female   LK           4   \n",
       "334  334    male   MR           1   \n",
       "335  335    male   WR           7   \n",
       "336  336    male   GB           6   \n",
       "337  337     NaN   PM           4   \n",
       "338  338  female   BB           7   \n",
       "339  339  female   SB           6   \n",
       "340  340    male   BP           6   \n",
       "341  341  female   JL           4   \n",
       "342  342  female   TW           1   \n",
       "343  343  female   MH           1   \n",
       "344  344    male   MB           6   \n",
       "345  345  female   GD           4   \n",
       "346  346  female   MB           4   \n",
       "347  347  female   KH           4   \n",
       "348  348    male   ED           1   \n",
       "349  349  female   CL           6   \n",
       "350  350  female   YP           4   \n",
       "351  351  female   CA           7   \n",
       "352  352  female   RC           1   \n",
       "353  353    male   CA           7   \n",
       "0      1  female   RN          -1   \n",
       "\n",
       "                                               mutuals  \n",
       "1    [2, 3, 4, 5, 6, 7, 8, 9, 10, 11, 12, 13, 14, 1...  \n",
       "2    [4, 5, 6, 10, 16, 20, 30, 31, 49, 52, 55, 64, ...  \n",
       "3               [4, 126, 147, 176, 221, 262, 263, 302]  \n",
       "4           [2, 3, 5, 59, 73, 126, 150, 176, 255, 263]  \n",
       "5    [2, 4, 6, 30, 31, 36, 37, 38, 49, 55, 63, 64, ...  \n",
       "6    [2, 5, 16, 30, 31, 37, 38, 49, 52, 63, 64, 66,...  \n",
       "7                                  [78, 230, 281, 303]  \n",
       "8       [15, 31, 75, 93, 139, 160, 238, 242, 245, 322]  \n",
       "9                                            [17, 233]  \n",
       "10    [2, 16, 29, 30, 55, 70, 249, 271, 282, 303, 342]  \n",
       "11                                          [123, 162]  \n",
       "12                                                  []  \n",
       "13   [14, 33, 40, 42, 71, 83, 84, 85, 92, 101, 102,...  \n",
       "14      [13, 26, 61, 84, 106, 164, 203, 213, 267, 307]  \n",
       "15   [8, 29, 66, 75, 100, 139, 155, 160, 194, 218, ...  \n",
       "16   [2, 6, 10, 30, 49, 52, 63, 64, 66, 70, 73, 77,...  \n",
       "17     [9, 18, 23, 29, 30, 58, 69, 119, 195, 233, 238]  \n",
       "18                                            [17, 69]  \n",
       "19                                                  []  \n",
       "20                                                  []  \n",
       "21                                            [17, 27]  \n",
       "22                                   [34, 39, 41, 153]  \n",
       "23                  [71, 116, 135, 189, 262, 336, 347]  \n",
       "24              [14, 40, 105, 106, 119, 164, 173, 267]  \n",
       "25                [20, 21, 23, 79, 104, 105, 119, 199]  \n",
       "26                                                  []  \n",
       "27                                [10, 15, 17, 30, 69]  \n",
       "28   [2, 5, 6, 10, 16, 17, 29, 31, 49, 54, 55, 65, ...  \n",
       "29   [2, 5, 6, 8, 30, 37, 49, 63, 64, 66, 67, 70, 7...  \n",
       "30   [51, 53, 57, 100, 139, 141, 145, 160, 186, 191...  \n",
       "..                                                 ...  \n",
       "325  [25, 114, 189, 212, 247, 268, 288, 295, 336, 337]  \n",
       "326  [2, 6, 30, 54, 55, 65, 95, 181, 237, 238, 257,...  \n",
       "327                                    [294, 300, 310]  \n",
       "328  [37, 44, 49, 52, 70, 73, 126, 140, 147, 150, 1...  \n",
       "329                               [248, 280, 310, 319]  \n",
       "330  [5, 36, 37, 38, 55, 67, 76, 126, 132, 134, 147...  \n",
       "331   [87, 91, 146, 183, 253, 260, 311, 312, 313, 338]  \n",
       "332  [2, 5, 6, 16, 30, 49, 52, 64, 70, 73, 78, 82, ...  \n",
       "333  [2, 5, 6, 16, 30, 49, 52, 64, 70, 73, 78, 82, ...  \n",
       "334  [2, 5, 6, 16, 30, 49, 52, 64, 70, 73, 78, 82, ...  \n",
       "335  [2, 5, 6, 16, 30, 49, 52, 64, 70, 73, 78, 82, ...  \n",
       "336  [2, 5, 6, 16, 30, 49, 52, 64, 70, 73, 78, 82, ...  \n",
       "337  [2, 5, 6, 16, 30, 49, 52, 64, 70, 73, 78, 82, ...  \n",
       "338  [2, 5, 6, 16, 30, 49, 52, 64, 70, 73, 78, 82, ...  \n",
       "339  [2, 5, 6, 16, 30, 49, 52, 64, 70, 73, 78, 82, ...  \n",
       "340  [2, 5, 6, 16, 30, 49, 52, 64, 70, 73, 78, 82, ...  \n",
       "341  [2, 5, 6, 16, 30, 49, 52, 64, 70, 73, 78, 82, ...  \n",
       "342  [2, 5, 6, 16, 30, 49, 52, 64, 70, 73, 78, 82, ...  \n",
       "343  [2, 5, 6, 16, 30, 49, 52, 64, 70, 73, 78, 82, ...  \n",
       "344  [2, 5, 6, 16, 30, 49, 52, 64, 70, 73, 78, 82, ...  \n",
       "345  [2, 5, 6, 16, 30, 49, 52, 64, 70, 73, 78, 82, ...  \n",
       "346  [2, 5, 6, 16, 30, 49, 52, 64, 70, 73, 78, 82, ...  \n",
       "347  [2, 5, 6, 16, 30, 49, 52, 64, 70, 73, 78, 82, ...  \n",
       "348  [2, 5, 6, 16, 30, 49, 52, 64, 70, 73, 78, 82, ...  \n",
       "349  [2, 5, 6, 16, 30, 49, 52, 64, 70, 73, 78, 82, ...  \n",
       "350  [2, 5, 6, 16, 30, 49, 52, 64, 70, 73, 78, 82, ...  \n",
       "351  [2, 5, 6, 16, 30, 49, 52, 64, 70, 73, 78, 82, ...  \n",
       "352  [2, 5, 6, 16, 30, 49, 52, 64, 70, 73, 78, 82, ...  \n",
       "353  [2, 5, 6, 16, 30, 49, 52, 64, 70, 73, 78, 82, ...  \n",
       "0    [2, 3, 4, 5, 6, 7, 8, 9, 10, 11, 12, 13, 14, 1...  \n",
       "\n",
       "[354 rows x 5 columns]"
      ]
     },
     "execution_count": 150,
     "metadata": {},
     "output_type": "execute_result"
    }
   ],
   "source": [
    "our_df"
   ]
  },
  {
   "cell_type": "markdown",
   "metadata": {},
   "source": [
    "That wasn't bad at all! Now let's do some looping to read all the observations into a list of Series that we can load into the DataFrame. "
   ]
  },
  {
   "cell_type": "code",
   "execution_count": 176,
   "metadata": {
    "collapsed": false
   },
   "outputs": [],
   "source": [
    "our_df = pd.DataFrame(columns=attribute_names)\n",
    "all_observations = [] #an empty list\n",
    "for user in our_data['users']:\n",
    "    a_series = pd.Series(user.values(), index=user.keys(), name=user['id'])\n",
    "    all_observations.append(a_series)"
   ]
  },
  {
   "cell_type": "code",
   "execution_count": 177,
   "metadata": {
    "collapsed": false,
    "scrolled": true
   },
   "outputs": [],
   "source": [
    "our_df = our_df.append(all_observations)"
   ]
  },
  {
   "cell_type": "code",
   "execution_count": 179,
   "metadata": {
    "collapsed": false,
    "scrolled": true
   },
   "outputs": [
    {
     "data": {
      "text/plain": [
       "u'[2, 3, 5, 59, 73, 126, 150, 176, 255, 263]'"
      ]
     },
     "execution_count": 179,
     "metadata": {},
     "output_type": "execute_result"
    }
   ],
   "source": [
    "our_df[\"mutuals\"][4]"
   ]
  },
  {
   "cell_type": "markdown",
   "metadata": {},
   "source": [
    "## Topic 5: Plotting the network\n",
    "\n",
    "Because this lesson is getting to long and because we'd have to do some more technical things, we're going to load the data another way and skip forward to plotting the network(s).\n",
    "\n",
    "Run the lines below to load into memory a Facebook network."
   ]
  },
  {
   "cell_type": "code",
   "execution_count": 1,
   "metadata": {
    "collapsed": false
   },
   "outputs": [
    {
     "ename": "IOError",
     "evalue": "[Errno 2] No such file or directory: './data1_general_data.csv'",
     "output_type": "error",
     "traceback": [
      "\u001b[0;31m---------------------------------------------------------------------------\u001b[0m",
      "\u001b[0;31mIOError\u001b[0m                                   Traceback (most recent call last)",
      "\u001b[0;32m<ipython-input-1-1af6ad6878f9>\u001b[0m in \u001b[0;36m<module>\u001b[0;34m()\u001b[0m\n\u001b[1;32m      1\u001b[0m \u001b[0;32mimport\u001b[0m \u001b[0mFacebook_Lab\u001b[0m \u001b[0;32mas\u001b[0m \u001b[0mfb\u001b[0m\u001b[0;34m\u001b[0m\u001b[0m\n\u001b[1;32m      2\u001b[0m \u001b[0mgraph\u001b[0m \u001b[0;34m=\u001b[0m \u001b[0mfb\u001b[0m\u001b[0;34m.\u001b[0m\u001b[0mFBgraph\u001b[0m\u001b[0;34m(\u001b[0m\u001b[0;34m)\u001b[0m\u001b[0;34m\u001b[0m\u001b[0m\n\u001b[0;32m----> 3\u001b[0;31m \u001b[0mgraph\u001b[0m\u001b[0;34m.\u001b[0m\u001b[0mload_data\u001b[0m\u001b[0;34m(\u001b[0m\u001b[0mfile_name\u001b[0m\u001b[0;34m=\u001b[0m\u001b[0;34m\"1\"\u001b[0m\u001b[0;34m)\u001b[0m\u001b[0;34m\u001b[0m\u001b[0m\n\u001b[0m",
      "\u001b[0;32m/Users/jon/Box Sync/Work/Teaching materials/Social Dynamics 260/Social Dynamics package/Facebook_Lab.py\u001b[0m in \u001b[0;36mload_data\u001b[0;34m(self, file_name)\u001b[0m\n\u001b[1;32m    960\u001b[0m \u001b[0;34m\u001b[0m\u001b[0m\n\u001b[1;32m    961\u001b[0m             \u001b[0;31m# Loading in data other than the Database\u001b[0m\u001b[0;34m\u001b[0m\u001b[0;34m\u001b[0m\u001b[0m\n\u001b[0;32m--> 962\u001b[0;31m             \u001b[0mother\u001b[0m \u001b[0;34m=\u001b[0m \u001b[0mopen\u001b[0m\u001b[0;34m(\u001b[0m\u001b[0;34m\"./\"\u001b[0m\u001b[0;34m+\u001b[0m\u001b[0mstr\u001b[0m\u001b[0;34m(\u001b[0m\u001b[0mself\u001b[0m\u001b[0;34m.\u001b[0m\u001b[0mgraph_name\u001b[0m\u001b[0;34m)\u001b[0m\u001b[0;34m+\u001b[0m\u001b[0;34m\"_general_data.csv\"\u001b[0m\u001b[0;34m,\u001b[0m \u001b[0;34m\"r+\"\u001b[0m\u001b[0;34m)\u001b[0m\u001b[0;34m\u001b[0m\u001b[0m\n\u001b[0m\u001b[1;32m    963\u001b[0m             \u001b[0;32mfor\u001b[0m \u001b[0mline\u001b[0m \u001b[0;32min\u001b[0m \u001b[0mother\u001b[0m\u001b[0;34m:\u001b[0m\u001b[0;34m\u001b[0m\u001b[0m\n\u001b[1;32m    964\u001b[0m                 \u001b[0mdata\u001b[0m \u001b[0;34m=\u001b[0m \u001b[0mline\u001b[0m\u001b[0;34m.\u001b[0m\u001b[0mstrip\u001b[0m\u001b[0;34m(\u001b[0m\u001b[0;34m)\u001b[0m\u001b[0;34m.\u001b[0m\u001b[0msplit\u001b[0m\u001b[0;34m(\u001b[0m\u001b[0;34m\";\"\u001b[0m\u001b[0;34m)\u001b[0m\u001b[0;34m\u001b[0m\u001b[0m\n",
      "\u001b[0;31mIOError\u001b[0m: [Errno 2] No such file or directory: './data1_general_data.csv'"
     ]
    }
   ],
   "source": [
    "import Facebook_Lab as fb\n",
    "graph = fb.FBgraph()\n",
    "graph.load_data(file_name=\"1\")"
   ]
  },
  {
   "cell_type": "markdown",
   "metadata": {},
   "source": [
    "<br>\n",
    "<p><font size=4>Viewing the network</font></p>\n",
    "<p>Now that the data are loaded, we can take a look at the network with the <i>draw_network( )</i> command.</p>"
   ]
  },
  {
   "cell_type": "code",
   "execution_count": 4,
   "metadata": {
    "collapsed": false
   },
   "outputs": [],
   "source": [
    "graph.draw_network()"
   ]
  },
  {
   "cell_type": "markdown",
   "metadata": {},
   "source": [
    "<p>This command produced a data file that can be seen by going to the Social Dynamics folder and opening up the file named \"JSON_network.html\" This page contains a script that runs an algorithm that visualizes the data dynamically.\n",
    "\n",
    "<p>It might look like some nodes are farther away from you than others, but that is not the case because they all have a tie to you. Rather, an algorithm is moving everyone around to group people together. \n",
    "\n",
    "The algorithm is a physics simulator running in the browser window so that you can move nodes around and inspect elements.</p>\n",
    "<p> At first the nodes and links will be flying around space in a crazy way, but \"gravity\" and other forces will eventually get it to settle down. At that point you can do the following things:</p>\n",
    "\n",
    "- Click and drag to fix a node's position.\n",
    "- Hover over nodes and ties to see names and friend counts.\n",
    "- Double click on nodes to \"unstick\" them.\n",
    "- Stop/start the algorithm with the buttons in the top left corner.\n",
    "\n",
    "This plotter can render tie weights visually and color strong ties blue if you have defined those attributes for all nodes. To get them to render, set arguments *strong* or *weight* equal to true as shown in the commented out code below.\n",
    "\n",
    "The chief benefit of this graphing method is that it allows you to literally pull the network a part to better see structure. For large networks the display and responses will probably be choppy at the beginning but as the physical forces \"cool\" over time, the structure will stablize and graphics will catch up. You can also plot the network without you node using the argument *withme=False*. **This version of the network is much clearer and your processer might probably have an easier time with it. I highly recommend experimenting with this option.**\n"
   ]
  },
  {
   "cell_type": "code",
   "execution_count": null,
   "metadata": {
    "collapsed": false
   },
   "outputs": [],
   "source": [
    "#graph.draw_network()\n",
    "#graph.draw_network(strong=True, weight=True)\n",
    "graph.draw_network(withme=False)"
   ]
  },
  {
   "cell_type": "markdown",
   "metadata": {},
   "source": [
    "##Topic 6: Analyzing the network\n",
    "\n",
    "We can use some builtin commands to do some basic measurements on the network\n",
    "\n",
    "- You can look at the clustering coefficients for nodes using the *clustering( )* command. The command takes a *group* argument that returns clustering coefficients for just the specified group from your social contexts list (the number, not the name). Without the group argument it returns the whole network.\n"
   ]
  },
  {
   "cell_type": "code",
   "execution_count": null,
   "metadata": {
    "collapsed": false
   },
   "outputs": [],
   "source": [
    "graph.clustering() #whole network\n",
    "#graph.get_average_clustering(graph.clustering())\n",
    "#graph.clustering(1) #just group one"
   ]
  },
  {
   "cell_type": "code",
   "execution_count": null,
   "metadata": {
    "collapsed": false
   },
   "outputs": [],
   "source": [
    "#graph.count_components() #the number of components in the graph\n",
    "graph.count_components(withme=False )"
   ]
  },
  {
   "cell_type": "code",
   "execution_count": null,
   "metadata": {
    "collapsed": false
   },
   "outputs": [],
   "source": [
    "#graph.diameter()\n",
    "graph.diameter(withme=False)"
   ]
  },
  {
   "cell_type": "code",
   "execution_count": null,
   "metadata": {
    "collapsed": false
   },
   "outputs": [],
   "source": [
    "graph.degree(graph.name_to_id(\"#a_name\"))"
   ]
  },
  {
   "cell_type": "code",
   "execution_count": null,
   "metadata": {
    "collapsed": false
   },
   "outputs": [],
   "source": [
    "graph.degree_centrality()\n",
    "#graph.degree_centrality(withme=False)"
   ]
  },
  {
   "cell_type": "code",
   "execution_count": null,
   "metadata": {
    "collapsed": false
   },
   "outputs": [],
   "source": [
    "graph.closeness_centrality()\n",
    "#graph.closeness_centrality(withme=False)"
   ]
  },
  {
   "cell_type": "code",
   "execution_count": null,
   "metadata": {
    "collapsed": false
   },
   "outputs": [],
   "source": [
    "graph.betweenness_centrality()\n",
    "#graph.betweenness_centrality(withme=False)#"
   ]
  },
  {
   "cell_type": "code",
   "execution_count": null,
   "metadata": {
    "collapsed": false
   },
   "outputs": [],
   "source": [
    "graph.eigenvector_centrality(iterations=500,withme=False) # may fail with too few iterations"
   ]
  },
  {
   "cell_type": "code",
   "execution_count": null,
   "metadata": {
    "collapsed": false
   },
   "outputs": [],
   "source": [
    "d = graph.associativity_by_attribute(\"gender\") #any attribute you have coded for will work here"
   ]
  },
  {
   "cell_type": "code",
   "execution_count": null,
   "metadata": {
    "collapsed": false
   },
   "outputs": [],
   "source": [
    "d = graph.clustering_by_attribute(\"gender\") # any attribute you have coded for will work here"
   ]
  },
  {
   "cell_type": "code",
   "execution_count": null,
   "metadata": {
    "collapsed": false
   },
   "outputs": [],
   "source": [
    "d = graph.clustering_by_attribute_summary(\"gender\") #summary means average"
   ]
  },
  {
   "cell_type": "code",
   "execution_count": null,
   "metadata": {
    "collapsed": false
   },
   "outputs": [],
   "source": []
  }
 ],
 "metadata": {
  "kernelspec": {
   "display_name": "Python 2",
   "language": "python",
   "name": "python2"
  },
  "language_info": {
   "codemirror_mode": {
    "name": "ipython",
    "version": 2
   },
   "file_extension": ".py",
   "mimetype": "text/x-python",
   "name": "python",
   "nbconvert_exporter": "python",
   "pygments_lexer": "ipython2",
   "version": "2.7.9"
  }
 },
 "nbformat": 4,
 "nbformat_minor": 0
}
